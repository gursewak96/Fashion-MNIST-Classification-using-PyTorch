{
  "nbformat": 4,
  "nbformat_minor": 0,
  "metadata": {
    "colab": {
      "provenance": [],
      "gpuType": "T4",
      "authorship_tag": "ABX9TyOv80tCpHoeLnpseO+xa7uq",
      "include_colab_link": true
    },
    "kernelspec": {
      "name": "python3",
      "display_name": "Python 3"
    },
    "language_info": {
      "name": "python"
    },
    "accelerator": "GPU"
  },
  "cells": [
    {
      "cell_type": "markdown",
      "metadata": {
        "id": "view-in-github",
        "colab_type": "text"
      },
      "source": [
        "<a href=\"https://colab.research.google.com/github/gursewak96/Fashion-MNIST-Classification-using-PyTorch/blob/main/ANN_Fashion_MNIST_PyTorch.ipynb\" target=\"_parent\"><img src=\"https://colab.research.google.com/assets/colab-badge.svg\" alt=\"Open In Colab\"/></a>"
      ]
    },
    {
      "cell_type": "markdown",
      "source": [
        "# Fashion MNIST Classification using PyTorch 👗👟👜\n",
        "\n",
        "## Introduction\n",
        "\n",
        "This project aims to classify images of clothing items from the Fashion MNIST dataset using a PyTorch-based deep learning model. 🧠 Fashion MNIST is a dataset of 70,000 grayscale images of clothing and accessories, each belonging to one of 10 categories. 👕👖 It serves as a drop-in replacement for the classic MNIST dataset, offering a more challenging classification task while maintaining a manageable size for experimentation. 🧪\n",
        "\n",
        "The project will involve the following steps:\n",
        "\n",
        "1. **Data Loading and Preprocessing:** Loading the Fashion MNIST dataset and preprocessing the images to prepare them for model training. 📥\n",
        "2. **Model Building:** Designing and implementing a deep learning model using PyTorch, likely employing convolutional neural networks (CNNs) for image feature extraction. 🧱\n",
        "3. **Model Training:** Training the model on the Fashion MNIST training dataset, optimizing its parameters to minimize classification errors. 🏋️‍♀️\n",
        "4. **Model Evaluation:** Evaluating the trained model's performance on the Fashion MNIST test dataset, assessing its accuracy and generalization capabilities. 📊\n",
        "5. **Visualization and Interpretation:** Visualizing the model's predictions and potentially exploring techniques for interpreting its learned features. 📈"
      ],
      "metadata": {
        "id": "VQX5RXLZsvlC"
      }
    },
    {
      "cell_type": "code",
      "source": [
        "# importing libraries\n",
        "import pandas as pd\n",
        "from sklearn.model_selection import train_test_split\n",
        "import torch\n",
        "import torch.nn as nn\n",
        "import torch.optim as optim\n",
        "from torch.utils.data import DataLoader, Dataset\n",
        "from torchvision import transforms, datasets\n",
        "import matplotlib.pyplot as plt"
      ],
      "metadata": {
        "id": "FTpjqtcntVoi"
      },
      "execution_count": 1,
      "outputs": []
    },
    {
      "cell_type": "code",
      "source": [
        "# set manual seed for reproducibility\n",
        "torch.manual_seed(42)"
      ],
      "metadata": {
        "id": "GfXAp2gIuB0_",
        "colab": {
          "base_uri": "https://localhost:8080/"
        },
        "outputId": "fd2104cf-bae0-4f70-8b2b-237b98d580ab"
      },
      "execution_count": 2,
      "outputs": [
        {
          "output_type": "execute_result",
          "data": {
            "text/plain": [
              "<torch._C.Generator at 0x7e82ca9b5310>"
            ]
          },
          "metadata": {},
          "execution_count": 2
        }
      ]
    },
    {
      "cell_type": "code",
      "source": [
        "# Check GPU availability\n",
        "device = torch.device(\"cuda\" if torch.cuda.is_available() else \"cpu\")\n",
        "print(device)"
      ],
      "metadata": {
        "colab": {
          "base_uri": "https://localhost:8080/"
        },
        "id": "K2lK23bcdT6h",
        "outputId": "37f10e28-145a-4511-d883-bff18e113493"
      },
      "execution_count": 3,
      "outputs": [
        {
          "output_type": "stream",
          "name": "stdout",
          "text": [
            "cuda\n"
          ]
        }
      ]
    },
    {
      "cell_type": "markdown",
      "source": [
        "## Dataloading and Preprocessing\n",
        "\n",
        " Loading the Fashion MNIST dataset and preprocessing the images to prepare them for model training."
      ],
      "metadata": {
        "id": "7cJnbR5nuWe-"
      }
    },
    {
      "cell_type": "code",
      "source": [
        "train_dataset_filepath = \"/content/fashion-mnist_train.csv\""
      ],
      "metadata": {
        "id": "0SGUlLo4d9QK"
      },
      "execution_count": 4,
      "outputs": []
    },
    {
      "cell_type": "code",
      "source": [
        "df_train = pd.read_csv(train_dataset_filepath)\n",
        "df_train.head(5)"
      ],
      "metadata": {
        "colab": {
          "base_uri": "https://localhost:8080/",
          "height": 255
        },
        "id": "pNtzrf2cujA5",
        "outputId": "b40ca1cf-9876-4b6b-a519-d3a39b99b1ef"
      },
      "execution_count": 5,
      "outputs": [
        {
          "output_type": "execute_result",
          "data": {
            "text/plain": [
              "   label  pixel1  pixel2  pixel3  pixel4  pixel5  pixel6  pixel7  pixel8  \\\n",
              "0      2       0       0       0       0       0       0       0       0   \n",
              "1      9       0       0       0       0       0       0       0       0   \n",
              "2      6       0       0       0       0       0       0       0       5   \n",
              "3      0       0       0       0       1       2       0       0       0   \n",
              "4      3       0       0       0       0       0       0       0       0   \n",
              "\n",
              "   pixel9  ...  pixel775  pixel776  pixel777  pixel778  pixel779  pixel780  \\\n",
              "0       0  ...         0         0         0         0         0         0   \n",
              "1       0  ...         0         0         0         0         0         0   \n",
              "2       0  ...         0         0         0        30        43         0   \n",
              "3       0  ...         3         0         0         0         0         1   \n",
              "4       0  ...         0         0         0         0         0         0   \n",
              "\n",
              "   pixel781  pixel782  pixel783  pixel784  \n",
              "0         0         0         0         0  \n",
              "1         0         0         0         0  \n",
              "2         0         0         0         0  \n",
              "3         0         0         0         0  \n",
              "4         0         0         0         0  \n",
              "\n",
              "[5 rows x 785 columns]"
            ],
            "text/html": [
              "\n",
              "  <div id=\"df-45e3d3cc-5c8c-4ec7-ae61-b69892088834\" class=\"colab-df-container\">\n",
              "    <div>\n",
              "<style scoped>\n",
              "    .dataframe tbody tr th:only-of-type {\n",
              "        vertical-align: middle;\n",
              "    }\n",
              "\n",
              "    .dataframe tbody tr th {\n",
              "        vertical-align: top;\n",
              "    }\n",
              "\n",
              "    .dataframe thead th {\n",
              "        text-align: right;\n",
              "    }\n",
              "</style>\n",
              "<table border=\"1\" class=\"dataframe\">\n",
              "  <thead>\n",
              "    <tr style=\"text-align: right;\">\n",
              "      <th></th>\n",
              "      <th>label</th>\n",
              "      <th>pixel1</th>\n",
              "      <th>pixel2</th>\n",
              "      <th>pixel3</th>\n",
              "      <th>pixel4</th>\n",
              "      <th>pixel5</th>\n",
              "      <th>pixel6</th>\n",
              "      <th>pixel7</th>\n",
              "      <th>pixel8</th>\n",
              "      <th>pixel9</th>\n",
              "      <th>...</th>\n",
              "      <th>pixel775</th>\n",
              "      <th>pixel776</th>\n",
              "      <th>pixel777</th>\n",
              "      <th>pixel778</th>\n",
              "      <th>pixel779</th>\n",
              "      <th>pixel780</th>\n",
              "      <th>pixel781</th>\n",
              "      <th>pixel782</th>\n",
              "      <th>pixel783</th>\n",
              "      <th>pixel784</th>\n",
              "    </tr>\n",
              "  </thead>\n",
              "  <tbody>\n",
              "    <tr>\n",
              "      <th>0</th>\n",
              "      <td>2</td>\n",
              "      <td>0</td>\n",
              "      <td>0</td>\n",
              "      <td>0</td>\n",
              "      <td>0</td>\n",
              "      <td>0</td>\n",
              "      <td>0</td>\n",
              "      <td>0</td>\n",
              "      <td>0</td>\n",
              "      <td>0</td>\n",
              "      <td>...</td>\n",
              "      <td>0</td>\n",
              "      <td>0</td>\n",
              "      <td>0</td>\n",
              "      <td>0</td>\n",
              "      <td>0</td>\n",
              "      <td>0</td>\n",
              "      <td>0</td>\n",
              "      <td>0</td>\n",
              "      <td>0</td>\n",
              "      <td>0</td>\n",
              "    </tr>\n",
              "    <tr>\n",
              "      <th>1</th>\n",
              "      <td>9</td>\n",
              "      <td>0</td>\n",
              "      <td>0</td>\n",
              "      <td>0</td>\n",
              "      <td>0</td>\n",
              "      <td>0</td>\n",
              "      <td>0</td>\n",
              "      <td>0</td>\n",
              "      <td>0</td>\n",
              "      <td>0</td>\n",
              "      <td>...</td>\n",
              "      <td>0</td>\n",
              "      <td>0</td>\n",
              "      <td>0</td>\n",
              "      <td>0</td>\n",
              "      <td>0</td>\n",
              "      <td>0</td>\n",
              "      <td>0</td>\n",
              "      <td>0</td>\n",
              "      <td>0</td>\n",
              "      <td>0</td>\n",
              "    </tr>\n",
              "    <tr>\n",
              "      <th>2</th>\n",
              "      <td>6</td>\n",
              "      <td>0</td>\n",
              "      <td>0</td>\n",
              "      <td>0</td>\n",
              "      <td>0</td>\n",
              "      <td>0</td>\n",
              "      <td>0</td>\n",
              "      <td>0</td>\n",
              "      <td>5</td>\n",
              "      <td>0</td>\n",
              "      <td>...</td>\n",
              "      <td>0</td>\n",
              "      <td>0</td>\n",
              "      <td>0</td>\n",
              "      <td>30</td>\n",
              "      <td>43</td>\n",
              "      <td>0</td>\n",
              "      <td>0</td>\n",
              "      <td>0</td>\n",
              "      <td>0</td>\n",
              "      <td>0</td>\n",
              "    </tr>\n",
              "    <tr>\n",
              "      <th>3</th>\n",
              "      <td>0</td>\n",
              "      <td>0</td>\n",
              "      <td>0</td>\n",
              "      <td>0</td>\n",
              "      <td>1</td>\n",
              "      <td>2</td>\n",
              "      <td>0</td>\n",
              "      <td>0</td>\n",
              "      <td>0</td>\n",
              "      <td>0</td>\n",
              "      <td>...</td>\n",
              "      <td>3</td>\n",
              "      <td>0</td>\n",
              "      <td>0</td>\n",
              "      <td>0</td>\n",
              "      <td>0</td>\n",
              "      <td>1</td>\n",
              "      <td>0</td>\n",
              "      <td>0</td>\n",
              "      <td>0</td>\n",
              "      <td>0</td>\n",
              "    </tr>\n",
              "    <tr>\n",
              "      <th>4</th>\n",
              "      <td>3</td>\n",
              "      <td>0</td>\n",
              "      <td>0</td>\n",
              "      <td>0</td>\n",
              "      <td>0</td>\n",
              "      <td>0</td>\n",
              "      <td>0</td>\n",
              "      <td>0</td>\n",
              "      <td>0</td>\n",
              "      <td>0</td>\n",
              "      <td>...</td>\n",
              "      <td>0</td>\n",
              "      <td>0</td>\n",
              "      <td>0</td>\n",
              "      <td>0</td>\n",
              "      <td>0</td>\n",
              "      <td>0</td>\n",
              "      <td>0</td>\n",
              "      <td>0</td>\n",
              "      <td>0</td>\n",
              "      <td>0</td>\n",
              "    </tr>\n",
              "  </tbody>\n",
              "</table>\n",
              "<p>5 rows × 785 columns</p>\n",
              "</div>\n",
              "    <div class=\"colab-df-buttons\">\n",
              "\n",
              "  <div class=\"colab-df-container\">\n",
              "    <button class=\"colab-df-convert\" onclick=\"convertToInteractive('df-45e3d3cc-5c8c-4ec7-ae61-b69892088834')\"\n",
              "            title=\"Convert this dataframe to an interactive table.\"\n",
              "            style=\"display:none;\">\n",
              "\n",
              "  <svg xmlns=\"http://www.w3.org/2000/svg\" height=\"24px\" viewBox=\"0 -960 960 960\">\n",
              "    <path d=\"M120-120v-720h720v720H120Zm60-500h600v-160H180v160Zm220 220h160v-160H400v160Zm0 220h160v-160H400v160ZM180-400h160v-160H180v160Zm440 0h160v-160H620v160ZM180-180h160v-160H180v160Zm440 0h160v-160H620v160Z\"/>\n",
              "  </svg>\n",
              "    </button>\n",
              "\n",
              "  <style>\n",
              "    .colab-df-container {\n",
              "      display:flex;\n",
              "      gap: 12px;\n",
              "    }\n",
              "\n",
              "    .colab-df-convert {\n",
              "      background-color: #E8F0FE;\n",
              "      border: none;\n",
              "      border-radius: 50%;\n",
              "      cursor: pointer;\n",
              "      display: none;\n",
              "      fill: #1967D2;\n",
              "      height: 32px;\n",
              "      padding: 0 0 0 0;\n",
              "      width: 32px;\n",
              "    }\n",
              "\n",
              "    .colab-df-convert:hover {\n",
              "      background-color: #E2EBFA;\n",
              "      box-shadow: 0px 1px 2px rgba(60, 64, 67, 0.3), 0px 1px 3px 1px rgba(60, 64, 67, 0.15);\n",
              "      fill: #174EA6;\n",
              "    }\n",
              "\n",
              "    .colab-df-buttons div {\n",
              "      margin-bottom: 4px;\n",
              "    }\n",
              "\n",
              "    [theme=dark] .colab-df-convert {\n",
              "      background-color: #3B4455;\n",
              "      fill: #D2E3FC;\n",
              "    }\n",
              "\n",
              "    [theme=dark] .colab-df-convert:hover {\n",
              "      background-color: #434B5C;\n",
              "      box-shadow: 0px 1px 3px 1px rgba(0, 0, 0, 0.15);\n",
              "      filter: drop-shadow(0px 1px 2px rgba(0, 0, 0, 0.3));\n",
              "      fill: #FFFFFF;\n",
              "    }\n",
              "  </style>\n",
              "\n",
              "    <script>\n",
              "      const buttonEl =\n",
              "        document.querySelector('#df-45e3d3cc-5c8c-4ec7-ae61-b69892088834 button.colab-df-convert');\n",
              "      buttonEl.style.display =\n",
              "        google.colab.kernel.accessAllowed ? 'block' : 'none';\n",
              "\n",
              "      async function convertToInteractive(key) {\n",
              "        const element = document.querySelector('#df-45e3d3cc-5c8c-4ec7-ae61-b69892088834');\n",
              "        const dataTable =\n",
              "          await google.colab.kernel.invokeFunction('convertToInteractive',\n",
              "                                                    [key], {});\n",
              "        if (!dataTable) return;\n",
              "\n",
              "        const docLinkHtml = 'Like what you see? Visit the ' +\n",
              "          '<a target=\"_blank\" href=https://colab.research.google.com/notebooks/data_table.ipynb>data table notebook</a>'\n",
              "          + ' to learn more about interactive tables.';\n",
              "        element.innerHTML = '';\n",
              "        dataTable['output_type'] = 'display_data';\n",
              "        await google.colab.output.renderOutput(dataTable, element);\n",
              "        const docLink = document.createElement('div');\n",
              "        docLink.innerHTML = docLinkHtml;\n",
              "        element.appendChild(docLink);\n",
              "      }\n",
              "    </script>\n",
              "  </div>\n",
              "\n",
              "\n",
              "<div id=\"df-4bc5ba84-d9ac-4451-8536-f1506c6bcfe4\">\n",
              "  <button class=\"colab-df-quickchart\" onclick=\"quickchart('df-4bc5ba84-d9ac-4451-8536-f1506c6bcfe4')\"\n",
              "            title=\"Suggest charts\"\n",
              "            style=\"display:none;\">\n",
              "\n",
              "<svg xmlns=\"http://www.w3.org/2000/svg\" height=\"24px\"viewBox=\"0 0 24 24\"\n",
              "     width=\"24px\">\n",
              "    <g>\n",
              "        <path d=\"M19 3H5c-1.1 0-2 .9-2 2v14c0 1.1.9 2 2 2h14c1.1 0 2-.9 2-2V5c0-1.1-.9-2-2-2zM9 17H7v-7h2v7zm4 0h-2V7h2v10zm4 0h-2v-4h2v4z\"/>\n",
              "    </g>\n",
              "</svg>\n",
              "  </button>\n",
              "\n",
              "<style>\n",
              "  .colab-df-quickchart {\n",
              "      --bg-color: #E8F0FE;\n",
              "      --fill-color: #1967D2;\n",
              "      --hover-bg-color: #E2EBFA;\n",
              "      --hover-fill-color: #174EA6;\n",
              "      --disabled-fill-color: #AAA;\n",
              "      --disabled-bg-color: #DDD;\n",
              "  }\n",
              "\n",
              "  [theme=dark] .colab-df-quickchart {\n",
              "      --bg-color: #3B4455;\n",
              "      --fill-color: #D2E3FC;\n",
              "      --hover-bg-color: #434B5C;\n",
              "      --hover-fill-color: #FFFFFF;\n",
              "      --disabled-bg-color: #3B4455;\n",
              "      --disabled-fill-color: #666;\n",
              "  }\n",
              "\n",
              "  .colab-df-quickchart {\n",
              "    background-color: var(--bg-color);\n",
              "    border: none;\n",
              "    border-radius: 50%;\n",
              "    cursor: pointer;\n",
              "    display: none;\n",
              "    fill: var(--fill-color);\n",
              "    height: 32px;\n",
              "    padding: 0;\n",
              "    width: 32px;\n",
              "  }\n",
              "\n",
              "  .colab-df-quickchart:hover {\n",
              "    background-color: var(--hover-bg-color);\n",
              "    box-shadow: 0 1px 2px rgba(60, 64, 67, 0.3), 0 1px 3px 1px rgba(60, 64, 67, 0.15);\n",
              "    fill: var(--button-hover-fill-color);\n",
              "  }\n",
              "\n",
              "  .colab-df-quickchart-complete:disabled,\n",
              "  .colab-df-quickchart-complete:disabled:hover {\n",
              "    background-color: var(--disabled-bg-color);\n",
              "    fill: var(--disabled-fill-color);\n",
              "    box-shadow: none;\n",
              "  }\n",
              "\n",
              "  .colab-df-spinner {\n",
              "    border: 2px solid var(--fill-color);\n",
              "    border-color: transparent;\n",
              "    border-bottom-color: var(--fill-color);\n",
              "    animation:\n",
              "      spin 1s steps(1) infinite;\n",
              "  }\n",
              "\n",
              "  @keyframes spin {\n",
              "    0% {\n",
              "      border-color: transparent;\n",
              "      border-bottom-color: var(--fill-color);\n",
              "      border-left-color: var(--fill-color);\n",
              "    }\n",
              "    20% {\n",
              "      border-color: transparent;\n",
              "      border-left-color: var(--fill-color);\n",
              "      border-top-color: var(--fill-color);\n",
              "    }\n",
              "    30% {\n",
              "      border-color: transparent;\n",
              "      border-left-color: var(--fill-color);\n",
              "      border-top-color: var(--fill-color);\n",
              "      border-right-color: var(--fill-color);\n",
              "    }\n",
              "    40% {\n",
              "      border-color: transparent;\n",
              "      border-right-color: var(--fill-color);\n",
              "      border-top-color: var(--fill-color);\n",
              "    }\n",
              "    60% {\n",
              "      border-color: transparent;\n",
              "      border-right-color: var(--fill-color);\n",
              "    }\n",
              "    80% {\n",
              "      border-color: transparent;\n",
              "      border-right-color: var(--fill-color);\n",
              "      border-bottom-color: var(--fill-color);\n",
              "    }\n",
              "    90% {\n",
              "      border-color: transparent;\n",
              "      border-bottom-color: var(--fill-color);\n",
              "    }\n",
              "  }\n",
              "</style>\n",
              "\n",
              "  <script>\n",
              "    async function quickchart(key) {\n",
              "      const quickchartButtonEl =\n",
              "        document.querySelector('#' + key + ' button');\n",
              "      quickchartButtonEl.disabled = true;  // To prevent multiple clicks.\n",
              "      quickchartButtonEl.classList.add('colab-df-spinner');\n",
              "      try {\n",
              "        const charts = await google.colab.kernel.invokeFunction(\n",
              "            'suggestCharts', [key], {});\n",
              "      } catch (error) {\n",
              "        console.error('Error during call to suggestCharts:', error);\n",
              "      }\n",
              "      quickchartButtonEl.classList.remove('colab-df-spinner');\n",
              "      quickchartButtonEl.classList.add('colab-df-quickchart-complete');\n",
              "    }\n",
              "    (() => {\n",
              "      let quickchartButtonEl =\n",
              "        document.querySelector('#df-4bc5ba84-d9ac-4451-8536-f1506c6bcfe4 button');\n",
              "      quickchartButtonEl.style.display =\n",
              "        google.colab.kernel.accessAllowed ? 'block' : 'none';\n",
              "    })();\n",
              "  </script>\n",
              "</div>\n",
              "\n",
              "    </div>\n",
              "  </div>\n"
            ],
            "application/vnd.google.colaboratory.intrinsic+json": {
              "type": "dataframe",
              "variable_name": "df_train"
            }
          },
          "metadata": {},
          "execution_count": 5
        }
      ]
    },
    {
      "cell_type": "code",
      "source": [
        "df_train.shape"
      ],
      "metadata": {
        "colab": {
          "base_uri": "https://localhost:8080/"
        },
        "id": "c6qNChdOfMSe",
        "outputId": "c4c41c57-3540-4451-ee12-8f62284aa970"
      },
      "execution_count": 6,
      "outputs": [
        {
          "output_type": "execute_result",
          "data": {
            "text/plain": [
              "(60000, 785)"
            ]
          },
          "metadata": {},
          "execution_count": 6
        }
      ]
    },
    {
      "cell_type": "code",
      "source": [
        "# visualizing images\n",
        "fig, axs = plt.subplots(4, 4, figsize=(10, 10))\n",
        "fig.suptitle(\"First 16 images: \",fontsize=16)\n",
        "\n",
        "# Plot the first 16 images from the dataset\n",
        "for i, ax in enumerate(axs.flat):\n",
        "    img = df_train.iloc[i, 1:].values.reshape(28,28)\n",
        "    ax.imshow(img)\n",
        "    ax.axis(\"off\")\n",
        "    ax.set_title(f\"Label: {df_train.iloc[i, 0]}\")\n",
        "\n",
        "plt.tight_layout(rect=[0,0,1,0.96])\n",
        "plt.show()\n"
      ],
      "metadata": {
        "colab": {
          "base_uri": "https://localhost:8080/",
          "height": 1000
        },
        "id": "JqW3V0M6tQfS",
        "outputId": "9d0e32e0-748b-4e9a-a0cc-65734b37d7bf"
      },
      "execution_count": 7,
      "outputs": [
        {
          "output_type": "display_data",
          "data": {
            "text/plain": [
              "<Figure size 1000x1000 with 16 Axes>"
            ],
            "image/png": "[encoded data removed]"
          },
          "metadata": {}
        }
      ]
    },
    {
      "cell_type": "code",
      "source": [
        "# Train Test Split\n",
        "X = df_train.iloc[:,1:].values\n",
        "y = df_train.iloc[:,0].values\n",
        "X_train, X_test, y_train, y_test = train_test_split(X, y, test_size=0.2, random_state=42)"
      ],
      "metadata": {
        "id": "s6s5xWA2t-yg"
      },
      "execution_count": 8,
      "outputs": []
    },
    {
      "cell_type": "code",
      "source": [
        "# Scaling the features\n",
        "X_train = X_train/255.0\n",
        "X_test = X_test/255.0"
      ],
      "metadata": {
        "id": "NNNZuE5utFDG"
      },
      "execution_count": 9,
      "outputs": []
    },
    {
      "cell_type": "code",
      "source": [
        "# Creating Custom Dataset class\n",
        "class CustomDataset(Dataset):\n",
        "  def __init__(self, features, labels):\n",
        "    self.features = torch.tensor(features, dtype=torch.float32)\n",
        "    self.labels = torch.tensor(labels, dtype=torch.long)\n",
        "\n",
        "  def __len__(self):\n",
        "    return len(self.features)\n",
        "\n",
        "  def __getitem__(self, idx):\n",
        "    return self.features[idx], self.labels[idx]\n"
      ],
      "metadata": {
        "id": "MRSatYa3s-LM"
      },
      "execution_count": 10,
      "outputs": []
    },
    {
      "cell_type": "code",
      "source": [
        "# create train dataset object\n",
        "train_dataset = CustomDataset(X_train, y_train)\n",
        "train_dataset[0]"
      ],
      "metadata": {
        "colab": {
          "base_uri": "https://localhost:8080/"
        },
        "id": "kmwpAMIOs1UU",
        "outputId": "6e9ee30b-914f-4784-d946-1ca796130b73"
      },
      "execution_count": 11,
      "outputs": [
        {
          "output_type": "execute_result",
          "data": {
            "text/plain": [
              "(tensor([0.0000, 0.0000, 0.0000, 0.0000, 0.0000, 0.0000, 0.0000, 0.0000, 0.0000,\n",
              "         0.0000, 0.0000, 0.0000, 0.0000, 0.0000, 0.0000, 0.0000, 0.0000, 0.0000,\n",
              "         0.0000, 0.0000, 0.0000, 0.0000, 0.0000, 0.0000, 0.0000, 0.0000, 0.0000,\n",
              "         0.0000, 0.0000, 0.0000, 0.0000, 0.0000, 0.0000, 0.0000, 0.0000, 0.0000,\n",
              "         0.0000, 0.0000, 0.0000, 0.0000, 0.0000, 0.0000, 0.0000, 0.0000, 0.0000,\n",
              "         0.0000, 0.0000, 0.0000, 0.0000, 0.0000, 0.0000, 0.0000, 0.0000, 0.0000,\n",
              "         0.0000, 0.0000, 0.0000, 0.0000, 0.0000, 0.0000, 0.0000, 0.0000, 0.0000,\n",
              "         0.0000, 0.0000, 0.0000, 0.0000, 0.0000, 0.0000, 0.0000, 0.0000, 0.0000,\n",
              "         0.0000, 0.0000, 0.0000, 0.0000, 0.0000, 0.0000, 0.0000, 0.0000, 0.0000,\n",
              "         0.0000, 0.0000, 0.0000, 0.0000, 0.0000, 0.0000, 0.0000, 0.0000, 0.0000,\n",
              "         0.0000, 0.0000, 0.0000, 0.0000, 0.0000, 0.0000, 0.0000, 0.0000, 0.0000,\n",
              "         0.0000, 0.0000, 0.0000, 0.0000, 0.0000, 0.0000, 0.0000, 0.0000, 0.2275,\n",
              "         0.5333, 0.0000, 0.0000, 0.0000, 0.0000, 0.0000, 0.0000, 0.0000, 0.0000,\n",
              "         0.0000, 0.0000, 0.0000, 0.0000, 0.0078, 0.0078, 0.0275, 0.0078, 0.0000,\n",
              "         0.0000, 0.0000, 0.0000, 0.0000, 0.0000, 0.0275, 0.2157, 0.3137, 0.4235,\n",
              "         0.5922, 1.0000, 0.0000, 0.0000, 0.0000, 0.0000, 0.0000, 0.0000, 0.0000,\n",
              "         0.0000, 0.0000, 0.0000, 0.0000, 0.0000, 0.0078, 0.0078, 0.0196, 0.0000,\n",
              "         0.0078, 0.0078, 0.0471, 0.2863, 0.4039, 0.5137, 0.5608, 0.5608, 0.6902,\n",
              "         0.6314, 0.3333, 0.3843, 0.0980, 0.0000, 0.0000, 0.0000, 0.0000, 0.0000,\n",
              "         0.0000, 0.0000, 0.0000, 0.0000, 0.0000, 0.0000, 0.0000, 0.0078, 0.0000,\n",
              "         0.0588, 0.4235, 0.5216, 0.5608, 0.7412, 0.7686, 0.7686, 0.7020, 0.4431,\n",
              "         0.3059, 0.1255, 0.0000, 0.2078, 0.4431, 0.0000, 0.0000, 0.0000, 0.0000,\n",
              "         0.0000, 0.0000, 0.0000, 0.0000, 0.0000, 0.0000, 0.0000, 0.0000, 0.0196,\n",
              "         0.0000, 0.0471, 0.1843, 0.1569, 0.1843, 0.0588, 0.0000, 0.0000, 0.0784,\n",
              "         0.0000, 0.0000, 0.0000, 0.0000, 0.0078, 0.7608, 0.2157, 0.0000, 0.0000,\n",
              "         0.0000, 0.0000, 0.0000, 0.0000, 0.0000, 0.0000, 0.0000, 0.0000, 0.0000,\n",
              "         0.0078, 0.0275, 0.0000, 0.0000, 0.0000, 0.0000, 0.0000, 0.0000, 0.0000,\n",
              "         0.0000, 0.0000, 0.0000, 0.0078, 0.0000, 0.0078, 0.7882, 0.6314, 0.0000,\n",
              "         0.0000, 0.0000, 0.0000, 0.0000, 0.0000, 0.0000, 0.0000, 0.0000, 0.0000,\n",
              "         0.0000, 0.0000, 0.0078, 0.0000, 0.0000, 0.0078, 0.0078, 0.0196, 0.0000,\n",
              "         0.0000, 0.0000, 0.0078, 0.0078, 0.0000, 0.0000, 0.1059, 0.8000, 0.6510,\n",
              "         0.0588, 0.0000, 0.0000, 0.0000, 0.0000, 0.0000, 0.0000, 0.0000, 0.0000,\n",
              "         0.0000, 0.0078, 0.0078, 0.0000, 0.0196, 0.0078, 0.0000, 0.0000, 0.0000,\n",
              "         0.0000, 0.0078, 0.0000, 0.0000, 0.0000, 0.0000, 0.0000, 0.3922, 0.8196,\n",
              "         0.5804, 0.1373, 0.0000, 0.0000, 0.0000, 0.0000, 0.0000, 0.0000, 0.0000,\n",
              "         0.0000, 0.0000, 0.0078, 0.0196, 0.0000, 0.0000, 0.0000, 0.0000, 0.0000,\n",
              "         0.0000, 0.0000, 0.0196, 0.0078, 0.0000, 0.0078, 0.0000, 0.0000, 0.6706,\n",
              "         0.8902, 0.1961, 0.1647, 0.0000, 0.0000, 0.0000, 0.0000, 0.0000, 0.0000,\n",
              "         0.0000, 0.0000, 0.0000, 0.0000, 0.0000, 0.0000, 0.0000, 0.0000, 0.0000,\n",
              "         0.0000, 0.0000, 0.0000, 0.0000, 0.0000, 0.0000, 0.0000, 0.0000, 0.0980,\n",
              "         0.9765, 0.5137, 0.1765, 0.3137, 0.0000, 0.0000, 0.0000, 0.0000, 0.0000,\n",
              "         0.0000, 0.0000, 0.0000, 0.0000, 0.0000, 0.0000, 0.0000, 0.0000, 0.0000,\n",
              "         0.0000, 0.0000, 0.0000, 0.0000, 0.0000, 0.0000, 0.0000, 0.0000, 0.0667,\n",
              "         0.2667, 0.4157, 0.2353, 0.3451, 0.1255, 0.0000, 0.0000, 0.0000, 0.0000,\n",
              "         0.0000, 0.0000, 0.0000, 0.0000, 0.0000, 0.0000, 0.0000, 0.0000, 0.0000,\n",
              "         0.0000, 0.0000, 0.0000, 0.0000, 0.0000, 0.0000, 0.0000, 0.0980, 0.1843,\n",
              "         0.2745, 0.7490, 0.4431, 0.0863, 0.0588, 0.0000, 0.0000, 0.0000, 0.0000,\n",
              "         0.0000, 0.0000, 0.0000, 0.0000, 0.0000, 0.0000, 0.0000, 0.0000, 0.0000,\n",
              "         0.0000, 0.0000, 0.0000, 0.0000, 0.0000, 0.0000, 0.0588, 0.0980, 0.2941,\n",
              "         0.6902, 0.8314, 0.4235, 0.4824, 0.1373, 0.0863, 0.0275, 0.0000, 0.0000,\n",
              "         0.0000, 0.0000, 0.0000, 0.0078, 0.0000, 0.0078, 0.0000, 0.0000, 0.0000,\n",
              "         0.0000, 0.0000, 0.0078, 0.0000, 0.0000, 0.0000, 0.0980, 0.2863, 0.5804,\n",
              "         0.8196, 0.1647, 0.0000, 0.0000, 0.1255, 0.4627, 0.0196, 0.0000, 0.0000,\n",
              "         0.0000, 0.0000, 0.0000, 0.0000, 0.0000, 0.0000, 0.0000, 0.0000, 0.0000,\n",
              "         0.0000, 0.0000, 0.0000, 0.0000, 0.0000, 0.0000, 0.0667, 0.3255, 0.6118,\n",
              "         0.5922, 0.0000, 0.0000, 0.0000, 0.0000, 0.0078, 0.6235, 0.1961, 0.0000,\n",
              "         0.0000, 0.0000, 0.0000, 0.0000, 0.0000, 0.0000, 0.0000, 0.0000, 0.0000,\n",
              "         0.0000, 0.0000, 0.0000, 0.0000, 0.0078, 0.0000, 0.0196, 0.3451, 0.6824,\n",
              "         0.4235, 0.0000, 0.0000, 0.0078, 0.0000, 0.0000, 0.0000, 0.8196, 0.2863,\n",
              "         0.0000, 0.0000, 0.0000, 0.0000, 0.0000, 0.0000, 0.1059, 0.0667, 0.4627,\n",
              "         0.2157, 0.0000, 0.0000, 0.0000, 0.0000, 0.0000, 0.0000, 0.1961, 0.6627,\n",
              "         0.4627, 0.0000, 0.0000, 0.0275, 0.0000, 0.0000, 0.0000, 0.0000, 0.6627,\n",
              "         0.3137, 0.0000, 0.0000, 0.0000, 0.0000, 0.0000, 0.0471, 0.2078, 0.0392,\n",
              "         0.3059, 0.6039, 0.0000, 0.0000, 0.0000, 0.0000, 0.0000, 0.0863, 0.8000,\n",
              "         0.5333, 0.0000, 0.0000, 0.0000, 0.0000, 0.0000, 0.0078, 0.0000, 0.0000,\n",
              "         0.6902, 0.4157, 0.0000, 0.0000, 0.0000, 0.0000, 0.0078, 0.0275, 0.0000,\n",
              "         0.0275, 0.0196, 0.6431, 0.0078, 0.0000, 0.0000, 0.0000, 0.2941, 0.5725,\n",
              "         0.7490, 0.0000, 0.0000, 0.0000, 0.0000, 0.0000, 0.0000, 0.0078, 0.0000,\n",
              "         0.0000, 0.7294, 0.4824, 0.0000, 0.1176, 0.2353, 0.0980, 0.1059, 0.2667,\n",
              "         0.3255, 0.1843, 0.2078, 0.3725, 0.1765, 0.0000, 0.0784, 0.4627, 0.6627,\n",
              "         0.6235, 0.0000, 0.0000, 0.0078, 0.0000, 0.0000, 0.0000, 0.0000, 0.0000,\n",
              "         0.0000, 0.0000, 0.6627, 0.3333, 0.0000, 0.1059, 0.4627, 0.5216, 0.4745,\n",
              "         0.3922, 0.5412, 0.2941, 0.3137, 0.2863, 0.4745, 0.5412, 0.5412, 0.6824,\n",
              "         0.6314, 0.0078, 0.0000, 0.0196, 0.0078, 0.0000, 0.0000, 0.0000, 0.0000,\n",
              "         0.0000, 0.0078, 0.0000, 0.6235, 0.5608, 0.0000, 0.0000, 0.0000, 0.0000,\n",
              "         0.0196, 0.1176, 0.2078, 0.1961, 0.3137, 0.2549, 0.4157, 0.5137, 0.1961,\n",
              "         0.2275, 0.0000, 0.0000, 0.0000, 0.0078, 0.0275, 0.0000, 0.0000, 0.0000,\n",
              "         0.0000, 0.0000, 0.0000, 0.0000, 0.5529, 0.5804, 0.0000, 0.0000, 0.0000,\n",
              "         0.0000, 0.0000, 0.0000, 0.0000, 0.0000, 0.0000, 0.0000, 0.0000, 0.0000,\n",
              "         0.0000, 0.0000, 0.0000, 0.0000, 0.0000, 0.0000, 0.0000, 0.0000, 0.0000,\n",
              "         0.0000, 0.0000, 0.0000, 0.0000, 0.0000, 0.0000, 0.0000, 0.0000, 0.0000,\n",
              "         0.0000, 0.0000, 0.0000, 0.0000, 0.0000, 0.0000, 0.0000, 0.0000, 0.0000,\n",
              "         0.0000, 0.0000, 0.0000, 0.0000, 0.0000, 0.0000, 0.0000, 0.0000, 0.0000,\n",
              "         0.0000, 0.0000, 0.0000, 0.0000, 0.0000, 0.0000, 0.0000, 0.0000, 0.0000,\n",
              "         0.0000, 0.0000, 0.0000, 0.0000, 0.0000, 0.0000, 0.0000, 0.0000, 0.0000,\n",
              "         0.0000, 0.0000, 0.0000, 0.0000, 0.0000, 0.0000, 0.0000, 0.0000, 0.0000,\n",
              "         0.0000, 0.0000, 0.0000, 0.0000, 0.0000, 0.0000, 0.0000, 0.0000, 0.0000,\n",
              "         0.0000]),\n",
              " tensor(5))"
            ]
          },
          "metadata": {},
          "execution_count": 11
        }
      ]
    },
    {
      "cell_type": "code",
      "source": [
        "# Create test dataset object\n",
        "test_dataset = CustomDataset(X_test, y_test)\n",
        "test_dataset[0]"
      ],
      "metadata": {
        "colab": {
          "base_uri": "https://localhost:8080/"
        },
        "id": "-y1U-frBzwU9",
        "outputId": "1136e645-8990-4e0f-8894-a763a0d8b763"
      },
      "execution_count": 12,
      "outputs": [
        {
          "output_type": "execute_result",
          "data": {
            "text/plain": [
              "(tensor([0.0000, 0.0000, 0.0000, 0.0000, 0.0000, 0.0000, 0.0000, 0.0000, 0.0000,\n",
              "         0.0000, 0.0000, 0.0000, 0.0000, 0.0000, 0.0000, 0.0000, 0.0000, 0.0000,\n",
              "         0.0000, 0.0000, 0.0000, 0.0000, 0.0000, 0.0000, 0.0000, 0.0000, 0.0000,\n",
              "         0.0000, 0.0000, 0.0000, 0.0000, 0.0000, 0.0000, 0.0000, 0.0000, 0.0000,\n",
              "         0.0000, 0.0000, 0.0000, 0.0000, 0.0000, 0.0000, 0.0000, 0.0000, 0.0000,\n",
              "         0.0000, 0.0000, 0.0000, 0.0000, 0.0000, 0.0000, 0.0000, 0.0000, 0.0000,\n",
              "         0.0000, 0.0000, 0.0000, 0.0000, 0.0000, 0.0000, 0.0000, 0.0000, 0.0000,\n",
              "         0.0000, 0.0000, 0.0000, 0.0000, 0.0000, 0.0000, 0.0000, 0.0000, 0.0000,\n",
              "         0.0000, 0.0000, 0.0000, 0.0000, 0.0000, 0.0000, 0.0000, 0.0000, 0.0000,\n",
              "         0.0000, 0.0000, 0.0000, 0.0000, 0.0000, 0.0000, 0.0000, 0.0000, 0.0000,\n",
              "         0.0000, 0.0000, 0.0000, 0.0000, 0.0000, 0.0000, 0.0000, 0.0000, 0.0000,\n",
              "         0.0000, 0.0000, 0.0000, 0.0000, 0.0000, 0.0000, 0.0000, 0.0000, 0.0000,\n",
              "         0.0000, 0.0000, 0.0000, 0.0000, 0.0000, 0.0000, 0.0000, 0.0000, 0.0000,\n",
              "         0.0000, 0.0000, 0.0000, 0.0000, 0.0000, 0.0000, 0.0000, 0.0000, 0.0000,\n",
              "         0.0000, 0.0000, 0.0000, 0.0000, 0.0000, 0.0000, 0.0000, 0.0000, 0.0000,\n",
              "         0.0000, 0.0000, 0.0000, 0.0000, 0.0000, 0.0000, 0.0000, 0.0000, 0.0000,\n",
              "         0.0000, 0.0000, 0.0000, 0.0000, 0.0000, 0.0000, 0.0000, 0.0000, 0.0000,\n",
              "         0.0000, 0.0000, 0.0000, 0.0000, 0.0000, 0.0000, 0.0000, 0.0000, 0.0000,\n",
              "         0.0000, 0.0000, 0.0000, 0.0000, 0.0000, 0.0000, 0.0000, 0.0000, 0.0000,\n",
              "         0.0000, 0.0000, 0.0000, 0.0000, 0.0000, 0.0000, 0.0000, 0.0000, 0.0000,\n",
              "         0.0000, 0.0000, 0.0000, 0.0000, 0.0000, 0.0000, 0.0000, 0.0000, 0.0000,\n",
              "         0.0000, 0.0000, 0.0000, 0.0000, 0.0000, 0.0000, 0.0000, 0.0000, 0.0000,\n",
              "         0.0000, 0.0000, 0.0000, 0.0000, 0.0000, 0.0000, 0.0000, 0.0000, 0.0000,\n",
              "         0.0000, 0.0000, 0.0000, 0.0000, 0.0000, 0.0000, 0.0000, 0.0000, 0.0000,\n",
              "         0.0000, 0.0000, 0.0000, 0.0000, 0.0000, 0.0000, 0.0000, 0.0000, 0.0000,\n",
              "         0.0000, 0.0000, 0.0000, 0.0000, 0.0000, 0.0000, 0.0000, 0.0000, 0.0000,\n",
              "         0.0000, 0.0000, 0.0000, 0.0078, 0.0000, 0.0000, 0.0000, 0.2863, 0.0196,\n",
              "         0.0000, 0.0078, 0.0000, 0.0000, 0.0000, 0.0000, 0.0000, 0.0000, 0.0000,\n",
              "         0.0000, 0.0000, 0.0000, 0.0000, 0.0000, 0.0000, 0.0000, 0.0000, 0.0000,\n",
              "         0.0000, 0.0000, 0.0000, 0.0000, 0.0000, 0.0000, 0.5569, 0.6314, 0.8353,\n",
              "         0.5529, 0.0000, 0.0000, 0.0039, 0.0000, 0.0000, 0.0000, 0.0000, 0.0039,\n",
              "         0.0000, 0.0000, 0.0000, 0.0000, 0.0000, 0.0000, 0.0000, 0.0000, 0.0000,\n",
              "         0.0000, 0.0000, 0.0000, 0.0000, 0.0000, 0.0667, 0.6549, 0.7608, 0.8118,\n",
              "         0.7412, 0.8902, 0.2902, 0.0000, 0.0196, 0.0000, 0.0039, 0.0078, 0.0000,\n",
              "         0.0000, 0.0000, 0.0000, 0.0000, 0.0000, 0.0000, 0.0000, 0.0000, 0.0000,\n",
              "         0.0000, 0.0000, 0.0000, 0.0000, 0.0000, 0.1294, 0.6196, 0.8431, 0.7529,\n",
              "         0.7843, 0.7294, 0.8627, 0.5098, 0.0000, 0.0000, 0.0000, 0.0000, 0.0000,\n",
              "         0.0000, 0.0000, 0.0000, 0.0000, 0.0078, 0.0118, 0.0157, 0.0157, 0.0118,\n",
              "         0.0078, 0.0000, 0.0000, 0.0000, 0.0000, 0.6353, 0.7686, 0.7804, 0.7686,\n",
              "         0.7765, 0.7882, 0.8118, 0.8118, 0.3373, 0.0157, 0.0000, 0.0000, 0.0275,\n",
              "         0.2039, 0.4706, 0.9412, 0.1608, 0.0000, 0.0000, 0.0000, 0.0000, 0.0000,\n",
              "         0.0000, 0.0000, 0.0000, 0.0000, 0.2706, 0.8431, 0.7843, 0.7373, 0.6235,\n",
              "         0.6431, 0.7137, 0.7647, 0.8118, 0.8549, 0.8784, 0.9804, 0.8392, 0.7725,\n",
              "         0.8039, 0.8745, 0.8353, 0.8706, 0.2627, 0.0000, 0.0000, 0.0000, 0.0157,\n",
              "         0.0588, 0.1216, 0.2824, 0.3059, 0.6510, 0.9412, 0.7137, 0.5882, 0.4667,\n",
              "         0.4902, 0.5059, 0.5569, 0.6196, 0.6392, 0.7098, 0.8157, 0.8549, 0.8667,\n",
              "         0.8627, 0.8431, 0.8235, 0.7686, 0.8039, 0.5686, 0.0863, 0.6275, 0.8039,\n",
              "         0.8118, 0.8196, 0.8078, 0.8000, 0.7647, 0.7137, 0.5804, 0.4118, 0.5020,\n",
              "         0.5255, 0.5804, 0.5490, 0.5137, 0.5569, 0.6157, 0.6235, 0.5922, 0.6667,\n",
              "         0.7294, 0.7412, 0.7569, 0.7804, 0.7686, 0.8078, 0.7176, 0.0431, 0.2275,\n",
              "         0.2902, 0.3569, 0.4902, 0.6471, 0.7882, 0.8510, 0.8314, 0.7451, 0.6078,\n",
              "         0.5333, 0.5686, 0.5882, 0.5922, 0.5569, 0.5255, 0.5373, 0.5765, 0.6078,\n",
              "         0.6314, 0.6667, 0.6588, 0.6471, 0.7294, 0.7843, 0.8471, 0.7333, 0.0627,\n",
              "         0.0667, 0.0353, 0.0000, 0.0000, 0.0000, 0.0000, 0.3059, 0.6706, 0.9529,\n",
              "         0.8118, 0.7686, 0.7804, 0.8118, 0.8235, 0.8196, 0.8078, 0.9765, 0.9569,\n",
              "         0.9451, 0.9176, 0.8863, 0.8431, 0.8235, 0.8353, 0.9294, 1.0000, 0.6471,\n",
              "         0.0000, 0.0275, 0.1059, 0.1569, 0.1608, 0.0471, 0.0000, 0.0000, 0.0000,\n",
              "         0.0000, 0.0392, 0.1804, 0.2118, 0.2627, 0.2588, 0.2235, 0.1765, 0.1373,\n",
              "         0.0941, 0.0431, 0.0000, 0.0000, 0.0000, 0.0000, 0.0000, 0.0000, 0.0000,\n",
              "         0.0000, 0.0000, 0.0000, 0.0000, 0.0667, 0.1922, 0.3608, 0.4392, 0.3373,\n",
              "         0.2353, 0.1490, 0.0667, 0.0000, 0.0000, 0.0000, 0.0000, 0.0118, 0.0275,\n",
              "         0.0275, 0.0275, 0.0588, 0.0745, 0.0824, 0.0745, 0.0471, 0.0157, 0.0235,\n",
              "         0.0392, 0.0000, 0.0000, 0.0000, 0.0000, 0.0000, 0.0000, 0.0275, 0.0824,\n",
              "         0.1490, 0.2078, 0.1922, 0.2235, 0.2039, 0.2353, 0.2431, 0.2549, 0.2588,\n",
              "         0.2745, 0.2902, 0.2863, 0.2941, 0.2941, 0.2902, 0.2941, 0.2627, 0.2235,\n",
              "         0.2471, 0.2235, 0.0000, 0.0000, 0.0000, 0.0000, 0.0000, 0.0000, 0.0000,\n",
              "         0.0000, 0.0000, 0.0000, 0.0000, 0.0000, 0.0000, 0.0000, 0.0000, 0.0000,\n",
              "         0.0000, 0.0000, 0.0000, 0.0000, 0.0000, 0.0000, 0.0000, 0.0000, 0.0000,\n",
              "         0.0000, 0.0000, 0.0000, 0.0000, 0.0000, 0.0000, 0.0000, 0.0000, 0.0000,\n",
              "         0.0000, 0.0000, 0.0000, 0.0000, 0.0000, 0.0000, 0.0000, 0.0000, 0.0000,\n",
              "         0.0000, 0.0000, 0.0000, 0.0000, 0.0000, 0.0000, 0.0000, 0.0000, 0.0000,\n",
              "         0.0000, 0.0000, 0.0000, 0.0000, 0.0000, 0.0000, 0.0000, 0.0000, 0.0000,\n",
              "         0.0000, 0.0000, 0.0000, 0.0000, 0.0000, 0.0000, 0.0000, 0.0000, 0.0000,\n",
              "         0.0000, 0.0000, 0.0000, 0.0000, 0.0000, 0.0000, 0.0000, 0.0000, 0.0000,\n",
              "         0.0000, 0.0000, 0.0000, 0.0000, 0.0000, 0.0000, 0.0000, 0.0000, 0.0000,\n",
              "         0.0000, 0.0000, 0.0000, 0.0000, 0.0000, 0.0000, 0.0000, 0.0000, 0.0000,\n",
              "         0.0000, 0.0000, 0.0000, 0.0000, 0.0000, 0.0000, 0.0000, 0.0000, 0.0000,\n",
              "         0.0000, 0.0000, 0.0000, 0.0000, 0.0000, 0.0000, 0.0000, 0.0000, 0.0000,\n",
              "         0.0000, 0.0000, 0.0000, 0.0000, 0.0000, 0.0000, 0.0000, 0.0000, 0.0000,\n",
              "         0.0000, 0.0000, 0.0000, 0.0000, 0.0000, 0.0000, 0.0000, 0.0000, 0.0000,\n",
              "         0.0000, 0.0000, 0.0000, 0.0000, 0.0000, 0.0000, 0.0000, 0.0000, 0.0000,\n",
              "         0.0000, 0.0000, 0.0000, 0.0000, 0.0000, 0.0000, 0.0000, 0.0000, 0.0000,\n",
              "         0.0000, 0.0000, 0.0000, 0.0000, 0.0000, 0.0000, 0.0000, 0.0000, 0.0000,\n",
              "         0.0000, 0.0000, 0.0000, 0.0000, 0.0000, 0.0000, 0.0000, 0.0000, 0.0000,\n",
              "         0.0000, 0.0000, 0.0000, 0.0000, 0.0000, 0.0000, 0.0000, 0.0000, 0.0000,\n",
              "         0.0000, 0.0000, 0.0000, 0.0000, 0.0000, 0.0000, 0.0000, 0.0000, 0.0000,\n",
              "         0.0000, 0.0000, 0.0000, 0.0000, 0.0000, 0.0000, 0.0000, 0.0000, 0.0000,\n",
              "         0.0000]),\n",
              " tensor(7))"
            ]
          },
          "metadata": {},
          "execution_count": 12
        }
      ]
    },
    {
      "cell_type": "code",
      "source": [
        "# Create train and test dataloader\n",
        "train_dataloader = DataLoader(train_dataset, batch_size=32, shuffle=True)\n",
        "test_dataloader = DataLoader(test_dataset, batch_size=32, shuffle=False)"
      ],
      "metadata": {
        "id": "nrN8qI8fz2-h"
      },
      "execution_count": 13,
      "outputs": []
    },
    {
      "cell_type": "markdown",
      "source": [
        "## Model Building\n",
        "\n",
        "Designing and implementing a deep learning model using PyTorch, likely employing convolutional neural networks (CNNs) for image feature extraction."
      ],
      "metadata": {
        "id": "Ity_BQpi0i_E"
      }
    },
    {
      "cell_type": "code",
      "source": [
        "# define NN class\n",
        "class FashionMnistNN(nn.Module):\n",
        "\n",
        "  def __init__(self, num_features):\n",
        "\n",
        "    super().__init__()\n",
        "    self.model = nn.Sequential(\n",
        "        nn.Linear(num_features, 128),\n",
        "        nn.BatchNorm1d(128),\n",
        "        nn.ReLU(),\n",
        "        nn.Dropout(p=0.3),\n",
        "        nn.Linear(128, 64),\n",
        "        nn.BatchNorm1d(64),\n",
        "        nn.ReLU(),\n",
        "        nn.Dropout(p=0.3),\n",
        "        nn.Linear(64, 10)\n",
        "    )\n",
        "\n",
        "  def forward(self, X):\n",
        "    return self.model(X)"
      ],
      "metadata": {
        "id": "VSagLqF90m7F"
      },
      "execution_count": 19,
      "outputs": []
    },
    {
      "cell_type": "markdown",
      "source": [
        "## Model Training\n",
        "\n",
        "Training the model on the Fashion MNIST training dataset, optimizing its parameters to minimize classification errors."
      ],
      "metadata": {
        "id": "Q2lHKuTC2UoR"
      }
    },
    {
      "cell_type": "code",
      "source": [
        "#set learning rate and epochs\n",
        "epochs = 100\n",
        "learning_rate = 0.1"
      ],
      "metadata": {
        "id": "Vkz52zPO2X9x"
      },
      "execution_count": 20,
      "outputs": []
    },
    {
      "cell_type": "code",
      "source": [
        "# Instantiate the model\n",
        "model = FashionMnistNN(num_features=X_train.shape[1])\n",
        "\n",
        "#move the model to gpu\n",
        "model.to(device)\n",
        "\n",
        "# set the loss function\n",
        "criterion = nn.CrossEntropyLoss()\n",
        "\n",
        "# set the optimizer\n",
        "optimizer = optim.SGD(model.parameters(), lr=learning_rate, weight_decay=1e-4)\n"
      ],
      "metadata": {
        "id": "VxYzCRKM_Kna"
      },
      "execution_count": 21,
      "outputs": []
    },
    {
      "cell_type": "code",
      "source": [
        "len(train_dataloader)"
      ],
      "metadata": {
        "colab": {
          "base_uri": "https://localhost:8080/"
        },
        "id": "mlaYuQOjDQJA",
        "outputId": "cf8a1282-6c22-42b9-c718-31e8541897c4"
      },
      "execution_count": 22,
      "outputs": [
        {
          "output_type": "execute_result",
          "data": {
            "text/plain": [
              "1500"
            ]
          },
          "metadata": {},
          "execution_count": 22
        }
      ]
    },
    {
      "cell_type": "code",
      "source": [
        "# training loop\n",
        "for epoch in range(epochs):\n",
        "\n",
        "  total_epoch_loss = 0\n",
        "  for batch_features, batch_labels in train_dataloader:\n",
        "\n",
        "    # move the data to gpu\n",
        "    batch_features, batch_labels  = batch_features.to(device), batch_labels.to(device)\n",
        "\n",
        "    # forward pass\n",
        "    y_pred = model(batch_features)\n",
        "\n",
        "    # calculate loss\n",
        "    loss = criterion(y_pred, batch_labels)\n",
        "\n",
        "    # backward pass\n",
        "    optimizer.zero_grad()\n",
        "    loss.backward()\n",
        "\n",
        "    # update gradients\n",
        "    optimizer.step()\n",
        "\n",
        "    total_epoch_loss += loss.item()\n",
        "\n",
        "  avg_loss = total_epoch_loss/len(train_dataloader)\n",
        "  print(\"Epoch: {} Loss: {}\".format(epoch + 1, avg_loss))"
      ],
      "metadata": {
        "colab": {
          "base_uri": "https://localhost:8080/"
        },
        "id": "YqlC0iiq0OkL",
        "outputId": "5f819d39-c179-402f-ea6b-7328b94bfb4f"
      },
      "execution_count": 23,
      "outputs": [
        {
          "output_type": "stream",
          "name": "stdout",
          "text": [
            "Epoch: 1 Loss: 0.6253465111156304\n",
            "Epoch: 2 Loss: 0.4947437292734782\n",
            "Epoch: 3 Loss: 0.4568548173705737\n",
            "Epoch: 4 Loss: 0.4339612967967987\n",
            "Epoch: 5 Loss: 0.41624679138263065\n",
            "Epoch: 6 Loss: 0.405450891589125\n",
            "Epoch: 7 Loss: 0.3935239982207616\n",
            "Epoch: 8 Loss: 0.38070508908480405\n",
            "Epoch: 9 Loss: 0.3756632667183876\n",
            "Epoch: 10 Loss: 0.3714536840567986\n",
            "Epoch: 11 Loss: 0.3683771576732397\n",
            "Epoch: 12 Loss: 0.3581636916399002\n",
            "Epoch: 13 Loss: 0.35298422508438426\n",
            "Epoch: 14 Loss: 0.35146956216792263\n",
            "Epoch: 15 Loss: 0.3453809697180986\n",
            "Epoch: 16 Loss: 0.34098062543570995\n",
            "Epoch: 17 Loss: 0.3363540516297023\n",
            "Epoch: 18 Loss: 0.33401149639487265\n",
            "Epoch: 19 Loss: 0.3296705158700546\n",
            "Epoch: 20 Loss: 0.32773709592719874\n",
            "Epoch: 21 Loss: 0.32654390795528887\n",
            "Epoch: 22 Loss: 0.32572177121291557\n",
            "Epoch: 23 Loss: 0.32279433220873277\n",
            "Epoch: 24 Loss: 0.3209902078062296\n",
            "Epoch: 25 Loss: 0.31482130246361095\n",
            "Epoch: 26 Loss: 0.316433444082737\n",
            "Epoch: 27 Loss: 0.3102566524321834\n",
            "Epoch: 28 Loss: 0.3099829400529464\n",
            "Epoch: 29 Loss: 0.30892680549869933\n",
            "Epoch: 30 Loss: 0.3026527372623483\n",
            "Epoch: 31 Loss: 0.3055404774099588\n",
            "Epoch: 32 Loss: 0.3049297984639804\n",
            "Epoch: 33 Loss: 0.30202464064459006\n",
            "Epoch: 34 Loss: 0.3012436049456398\n",
            "Epoch: 35 Loss: 0.29847667386134463\n",
            "Epoch: 36 Loss: 0.2974913519099355\n",
            "Epoch: 37 Loss: 0.29611842972536884\n",
            "Epoch: 38 Loss: 0.2959075205475092\n",
            "Epoch: 39 Loss: 0.29598285392920176\n",
            "Epoch: 40 Loss: 0.291793178131183\n",
            "Epoch: 41 Loss: 0.29249854979415735\n",
            "Epoch: 42 Loss: 0.29154203410446644\n",
            "Epoch: 43 Loss: 0.2905185064524412\n",
            "Epoch: 44 Loss: 0.29243571117023626\n",
            "Epoch: 45 Loss: 0.28941984043767055\n",
            "Epoch: 46 Loss: 0.285636459218959\n",
            "Epoch: 47 Loss: 0.29005929433057703\n",
            "Epoch: 48 Loss: 0.28747713841001193\n",
            "Epoch: 49 Loss: 0.2880704392765959\n",
            "Epoch: 50 Loss: 0.28356758097062507\n",
            "Epoch: 51 Loss: 0.28518229299287\n",
            "Epoch: 52 Loss: 0.2838997332106034\n",
            "Epoch: 53 Loss: 0.27928011204799014\n",
            "Epoch: 54 Loss: 0.28075125091522934\n",
            "Epoch: 55 Loss: 0.2806351883932948\n",
            "Epoch: 56 Loss: 0.2779199449320634\n",
            "Epoch: 57 Loss: 0.27745869575689236\n",
            "Epoch: 58 Loss: 0.27505512645840646\n",
            "Epoch: 59 Loss: 0.2778318837210536\n",
            "Epoch: 60 Loss: 0.2741754136259357\n",
            "Epoch: 61 Loss: 0.2742217136422793\n",
            "Epoch: 62 Loss: 0.2775672933111588\n",
            "Epoch: 63 Loss: 0.2715756906742851\n",
            "Epoch: 64 Loss: 0.27390573729077977\n",
            "Epoch: 65 Loss: 0.27408003141979376\n",
            "Epoch: 66 Loss: 0.27259798364837967\n",
            "Epoch: 67 Loss: 0.27037563543394205\n",
            "Epoch: 68 Loss: 0.27260215328633786\n",
            "Epoch: 69 Loss: 0.26880311721314987\n",
            "Epoch: 70 Loss: 0.26695553143819173\n",
            "Epoch: 71 Loss: 0.2697531809434295\n",
            "Epoch: 72 Loss: 0.27022229524453484\n",
            "Epoch: 73 Loss: 0.2721816606844465\n",
            "Epoch: 74 Loss: 0.26966594270368416\n",
            "Epoch: 75 Loss: 0.27113099255909523\n",
            "Epoch: 76 Loss: 0.2718314146772027\n",
            "Epoch: 77 Loss: 0.2685809776857495\n",
            "Epoch: 78 Loss: 0.2683044400463502\n",
            "Epoch: 79 Loss: 0.26484436223531765\n",
            "Epoch: 80 Loss: 0.2698688454280297\n",
            "Epoch: 81 Loss: 0.2679910603289803\n",
            "Epoch: 82 Loss: 0.2641447983632485\n",
            "Epoch: 83 Loss: 0.2668455850283305\n",
            "Epoch: 84 Loss: 0.2679924600819747\n",
            "Epoch: 85 Loss: 0.2606849590167403\n",
            "Epoch: 86 Loss: 0.265645375524958\n",
            "Epoch: 87 Loss: 0.2653366587261359\n",
            "Epoch: 88 Loss: 0.26561127229283255\n",
            "Epoch: 89 Loss: 0.261740784705927\n",
            "Epoch: 90 Loss: 0.26234966338177523\n",
            "Epoch: 91 Loss: 0.26342977885653573\n",
            "Epoch: 92 Loss: 0.2637552889076372\n",
            "Epoch: 93 Loss: 0.26005408678452174\n",
            "Epoch: 94 Loss: 0.2588281921694676\n",
            "Epoch: 95 Loss: 0.26048175601040324\n",
            "Epoch: 96 Loss: 0.2592044856001933\n",
            "Epoch: 97 Loss: 0.2571429700491329\n",
            "Epoch: 98 Loss: 0.2620513947978616\n",
            "Epoch: 99 Loss: 0.2627436269670725\n",
            "Epoch: 100 Loss: 0.2569415111814936\n"
          ]
        }
      ]
    },
    {
      "cell_type": "markdown",
      "source": [
        "## Model Evaluation\n",
        "\n",
        " Evaluating the trained model's performance on the Fashion MNIST test dataset, assessing its accuracy and generalization capabilities."
      ],
      "metadata": {
        "id": "295XpC7XEBf8"
      }
    },
    {
      "cell_type": "code",
      "source": [
        "# set the model to eval mode\n",
        "model.eval()"
      ],
      "metadata": {
        "colab": {
          "base_uri": "https://localhost:8080/"
        },
        "id": "J8PRKPf0EFOf",
        "outputId": "262faa02-c915-43c8-e900-1b8ca28df101"
      },
      "execution_count": 24,
      "outputs": [
        {
          "output_type": "execute_result",
          "data": {
            "text/plain": [
              "FashionMnistNN(\n",
              "  (model): Sequential(\n",
              "    (0): Linear(in_features=784, out_features=128, bias=True)\n",
              "    (1): BatchNorm1d(128, eps=1e-05, momentum=0.1, affine=True, track_running_stats=True)\n",
              "    (2): ReLU()\n",
              "    (3): Dropout(p=0.3, inplace=False)\n",
              "    (4): Linear(in_features=128, out_features=64, bias=True)\n",
              "    (5): BatchNorm1d(64, eps=1e-05, momentum=0.1, affine=True, track_running_stats=True)\n",
              "    (6): ReLU()\n",
              "    (7): Dropout(p=0.3, inplace=False)\n",
              "    (8): Linear(in_features=64, out_features=10, bias=True)\n",
              "  )\n",
              ")"
            ]
          },
          "metadata": {},
          "execution_count": 24
        }
      ]
    },
    {
      "cell_type": "code",
      "source": [
        "# evaluatin code On Test data\n",
        "total = 0\n",
        "correct = 0\n",
        "\n",
        "with torch.no_grad():\n",
        "  for batch_features, batch_labels in test_dataloader:\n",
        "    # move the data to gpu\n",
        "    batch_features, batch_labels  = batch_features.to(device), batch_labels.to(device)\n",
        "\n",
        "    # forward pass\n",
        "    outputs = model(batch_features)\n",
        "    _, predicted = torch.max(outputs, 1)\n",
        "\n",
        "    total += batch_labels.shape[0]\n",
        "    correct += (predicted == batch_labels).sum().item()\n",
        "\n",
        "print(\"Test Accuracy: {}%\".format(100*correct/total))\n"
      ],
      "metadata": {
        "colab": {
          "base_uri": "https://localhost:8080/"
        },
        "id": "6MxA6RRQCMqx",
        "outputId": "c388e77f-a1f9-4d0a-8fb1-de30b2e15643"
      },
      "execution_count": 25,
      "outputs": [
        {
          "output_type": "stream",
          "name": "stdout",
          "text": [
            "Test Accuracy: 89.08333333333333%\n"
          ]
        }
      ]
    },
    {
      "cell_type": "code",
      "source": [
        "# evaluatin code On Train data\n",
        "total = 0\n",
        "correct = 0\n",
        "\n",
        "with torch.no_grad():\n",
        "  for batch_features, batch_labels in train_dataloader:\n",
        "    # move the data to gpu\n",
        "    batch_features, batch_labels  = batch_features.to(device), batch_labels.to(device)\n",
        "\n",
        "    # forward pass\n",
        "    outputs = model(batch_features)\n",
        "    _, predicted = torch.max(outputs, 1)\n",
        "\n",
        "    total += batch_labels.shape[0]\n",
        "    correct += (predicted == batch_labels).sum().item()\n",
        "\n",
        "print(\"Training Accuracy: {}%\".format(100*correct/total))\n"
      ],
      "metadata": {
        "colab": {
          "base_uri": "https://localhost:8080/"
        },
        "id": "jJU4UGJ7PdPi",
        "outputId": "d3fd2c7c-5a4d-4c09-f7d2-cc1af16d9a94"
      },
      "execution_count": 26,
      "outputs": [
        {
          "output_type": "stream",
          "name": "stdout",
          "text": [
            "Training Accuracy: 94.22083333333333%\n"
          ]
        }
      ]
    }
  ]
}